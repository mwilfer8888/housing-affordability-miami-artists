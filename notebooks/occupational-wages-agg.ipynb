{
 "cells": [
  {
   "cell_type": "code",
   "execution_count": 1,
   "metadata": {},
   "outputs": [],
   "source": [
    "import pandas as pd "
   ]
  },
  {
   "cell_type": "code",
   "execution_count": 2,
   "metadata": {},
   "outputs": [],
   "source": [
    "#preparing data for importing \n",
    "file_path = 'fl-occupational-wages-agg.xlsx'\n",
    "sheet_name = 'Miami-Ft. Laud-WPB'"
   ]
  },
  {
   "cell_type": "code",
   "execution_count": 3,
   "metadata": {},
   "outputs": [],
   "source": [
    "#reading excel file as dataframe, skipping header rows so that it will actually read the numbers\n",
    "wages = pd.read_excel(file_path, skiprows=5)"
   ]
  },
  {
   "cell_type": "code",
   "execution_count": 4,
   "metadata": {},
   "outputs": [],
   "source": [
    "#renaming columns \n",
    "wages = wages.rename(columns = {'Code':'oes_code', 'Title':'occupation', 'Employment':'employs', 'Mean':'mean', 'Median':'median', 'Entry*':'entry', 'Exp**':'exp', 'P10':'p10', 'P25':'p25', 'P75':'p75', 'P90':'p90'})"
   ]
  },
  {
   "cell_type": "code",
   "execution_count": 5,
   "metadata": {},
   "outputs": [],
   "source": [
    "#changing \"NR\" (\"Not Reported\") to 0 \n",
    "wages['employs'] = wages['employs'].replace(\"NR\", 0)"
   ]
  },
  {
   "cell_type": "code",
   "execution_count": 6,
   "metadata": {},
   "outputs": [],
   "source": [
    "#dropping 10th and 90th percentile columns as they are not needed for this project\n",
    "wages = wages.drop(columns=['p10','p90'])"
   ]
  },
  {
   "cell_type": "code",
   "execution_count": 7,
   "metadata": {},
   "outputs": [],
   "source": [
    "#changing numeric columns to numeric data type since they originally were all objects\n",
    "numeric_columns = [ 'employs', 'mean', 'median', 'entry', 'exp',\n",
    "        'p25', 'p75']\n",
    "\n",
    "for column in numeric_columns:\n",
    "    wages[column] = pd.to_numeric(wages[column], errors='coerce')\n",
    "    "
   ]
  },
  {
   "cell_type": "code",
   "execution_count": 8,
   "metadata": {},
   "outputs": [],
   "source": [
    "#stripping OES code to make sure the filtering works correctly\n",
    "wages['oes_code'] = wages['oes_code'].str.strip()"
   ]
  },
  {
   "cell_type": "code",
   "execution_count": 9,
   "metadata": {},
   "outputs": [],
   "source": [
    "#filtering out only the art related occupations\n",
    "art_codes = ['27-1011','27-1012','27-1013','27-1014','27-1019','27-1022', '27-1027','27-2011','27-2012', '27-2031','27-2032','27-2041','27-2042','27-2099','27-3043','27-4021','27-4031','27-4032','25-4012','25-4013'] \n",
    "wages = wages[wages['oes_code'].isin(art_codes)]"
   ]
  },
  {
   "cell_type": "code",
   "execution_count": 10,
   "metadata": {},
   "outputs": [],
   "source": [
    "#resetting index\n",
    "wages.reset_index(drop=True, inplace=True)"
   ]
  },
  {
   "cell_type": "code",
   "execution_count": 11,
   "metadata": {},
   "outputs": [],
   "source": [
    "#rounding everything to nearest whole number\n",
    "wages = wages.round(0)\n",
    "wages['common_key']=0"
   ]
  },
  {
   "cell_type": "code",
   "execution_count": 12,
   "metadata": {},
   "outputs": [],
   "source": [
    "#changing all numeric columns to integers\n",
    "for col in numeric_columns:\n",
    "    wages[col] = wages[col].astype(int)"
   ]
  },
  {
   "cell_type": "code",
   "execution_count": 13,
   "metadata": {},
   "outputs": [],
   "source": [
    "#saving to csv \n",
    "wages.to_csv('hourly-wages-occupation.csv', index=False)"
   ]
  }
 ],
 "metadata": {
  "kernelspec": {
   "display_name": "base",
   "language": "python",
   "name": "python3"
  },
  "language_info": {
   "codemirror_mode": {
    "name": "ipython",
    "version": 3
   },
   "file_extension": ".py",
   "mimetype": "text/x-python",
   "name": "python",
   "nbconvert_exporter": "python",
   "pygments_lexer": "ipython3",
   "version": "3.11.7"
  }
 },
 "nbformat": 4,
 "nbformat_minor": 2
}
